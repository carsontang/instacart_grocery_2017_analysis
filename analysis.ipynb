{
 "cells": [
  {
   "cell_type": "code",
   "execution_count": 6,
   "metadata": {
    "collapsed": true
   },
   "outputs": [],
   "source": [
    "# Connect to the database\n",
    "import sqlalchemy\n",
    "from sqlalchemy import create_engine\n",
    "\n",
    "engine = create_engine('postgresql+psycopg2://ctang:@localhost:5432/ctang', encoding='utf-8') # no password\n",
    "connection = engine.connect()"
   ]
  },
  {
   "cell_type": "code",
   "execution_count": 10,
   "metadata": {
    "collapsed": false
   },
   "outputs": [],
   "source": [
    "# Set up the tables\n",
    "from sqlalchemy import MetaData\n",
    "from sqlalchemy import Table, Column, Enum, Boolean, Integer, Numeric, Text\n",
    "\n",
    "metadata = MetaData()\n",
    "\n",
    "orders = Table('orders', metadata,\n",
    "    Column('order_id', Integer(), autoincrement=True, primary_key=True),\n",
    "    Column('user_id', Integer(), autoincrement=True),\n",
    "    Column('order_eval_set', Enum('prior', 'train', 'test')),\n",
    "    Column('order_number', Integer()),\n",
    "    Column('order_dow', Integer()),\n",
    "    Column('order_hour_of_day', Integer()),\n",
    "    Column('days_since_prior', Numeric(), nullable=True)\n",
    ")\n",
    "\n",
    "aisles = Table('aisles', metadata,\n",
    "    Column('aisle_id', Integer(), autoincrement=True, primary_key=True),\n",
    "    Column('aisle', Text)\n",
    ")\n",
    "\n",
    "departments = Table('departments', metadata,\n",
    "    Column('department_id', Integer(), autoincrement=True, primary_key=True),\n",
    "    Column('department', Text)\n",
    ")\n",
    "\n",
    "products = Table('products', metadata,\n",
    "    Column('product_id', Integer(), autoincrement=True, primary_key=True),\n",
    "    Column('product_name', Text()),\n",
    "    Column('aisle_id', ForeignKey('aisles.aisle_id')),\n",
    "    Column('department_id', ForeignKey('departments.department_id'))\n",
    ")\n",
    "\n",
    "order_products__train = Table('order_products__train', metadata,\n",
    "    Column('order_id', ForeignKey('orders.order_id')),\n",
    "    Column('product_id', ForeignKey('products.product_id')),\n",
    "    Column('add_to_cart_order', Integer(), autoincrement=True),\n",
    "    Column('reordered', Boolean())\n",
    ")"
   ]
  },
  {
   "cell_type": "code",
   "execution_count": 11,
   "metadata": {
    "collapsed": false
   },
   "outputs": [
    {
     "name": "stdout",
     "output_type": "stream",
     "text": [
      "          department | number of products\n",
      "--------------------------------------------------\n",
      "       personal care | 6563\n",
      "              snacks | 6264\n",
      "              pantry | 5371\n",
      "           beverages | 4365\n",
      "              frozen | 4007\n",
      "          dairy eggs | 3449\n",
      "           household | 3085\n",
      "        canned goods | 2092\n",
      "     dry goods pasta | 1858\n",
      "             produce | 1684\n",
      "              bakery | 1516\n",
      "                deli | 1322\n",
      "             missing | 1258\n",
      "       international | 1139\n",
      "           breakfast | 1115\n",
      "              babies | 1081\n",
      "             alcohol | 1054\n",
      "                pets | 972\n",
      "        meat seafood | 907\n",
      "               other | 548\n",
      "                bulk | 38\n"
     ]
    }
   ],
   "source": [
    "from sqlalchemy.sql import select, func, desc\n",
    "\n",
    "# Top 10 departments with the most product listings\n",
    "columns = [departments.c.department, func.count(products.c.product_id).label('product_count')]\n",
    "s = select(columns) \\\n",
    "    .select_from(departments.join(products)) \\\n",
    "    .group_by(departments.c.department) \\\n",
    "    .order_by(desc('product_count'))\n",
    "\n",
    "rp = connection.execute(s)\n",
    "print \"%20s | %s\" % ('department', 'number of products')\n",
    "print '-' * 50\n",
    "for record in rp:\n",
    "    print \"%20s | %s\" % (record.department, record.product_count)"
   ]
  },
  {
   "cell_type": "code",
   "execution_count": 102,
   "metadata": {
    "collapsed": false
   },
   "outputs": [],
   "source": [
    "# # /* Top 10 most ordered items */\n",
    "# columns = [order_products__train.c.product_id, func.count().label('num_ordered')]\n",
    "# product_counts = select(columns) \\\n",
    "#     .select_from(order_products__train) \\\n",
    "#     .group_by(order_products__train.c.product_id) \\\n",
    "#     .order_by(desc('num_ordered')) \\\n",
    "#     .limit(10) \\\n",
    "#     .subquery('product_counts')\n",
    "\n",
    "# col2 = [products.c.product_name, product_counts.c.num_ordered]\n",
    "# r = select(col2).select_from(product_counts).join(products).limit(10)\n",
    "# print str(product_counts)\n",
    "# rp = connection.execute(s)\n",
    "# for record in rp:\n",
    "#     print record\n",
    "    \n",
    "# # SELECT p.product_name, o.num_ordered, a.aisle\n",
    "# #   FROM (SELECT o.product_id as product_id, COUNT(*) AS num_ordered\n",
    "# #           FROM order_products__train o\n",
    "# #       GROUP BY o.product_id\n",
    "# #       ORDER BY num_ordered DESC) AS o\n",
    "# #   JOIN products p ON p.product_id = o.product_id\n",
    "# #   JOIN aisles a ON p.aisle_id = a.aisle_id\n",
    "# #  LIMIT 10;"
   ]
  },
  {
   "cell_type": "code",
   "execution_count": 16,
   "metadata": {
    "collapsed": false
   },
   "outputs": [],
   "source": [
    "# Connect to the database\n",
    "import sqlalchemy\n",
    "from sqlalchemy import create_engine\n",
    "\n",
    "engine = create_engine('postgresql+psycopg2://ctang:@localhost:5432/ctang', encoding='utf-8') # no password\n",
    "connection = engine.connect()\n",
    "\n",
    "from sqlalchemy import Table, Column, Enum, Boolean, Integer, Numeric, Text, Unicode, ForeignKey\n",
    "from sqlalchemy.ext.declarative import declarative_base\n",
    "from sqlalchemy.orm import relationship, backref\n",
    "\n",
    "Base = declarative_base()\n",
    "\n",
    "class Aisle(Base):\n",
    "    __tablename__ = 'aisles'\n",
    "    \n",
    "    aisle_id = Column('aisle_id', Integer(), autoincrement=True, primary_key=True)\n",
    "    aisle = Column('aisle', Text)\n",
    "    \n",
    "    def __repr__(self):\n",
    "        return \"Aisle(aisle_id={self.aisle_id}, aisle={self.aisle})\".format(self=self)\n",
    "\n",
    "class Department(Base):\n",
    "    __tablename__ = 'departments'\n",
    "    \n",
    "    department_id = Column('department_id', Integer(), autoincrement=True, primary_key=True)\n",
    "    department = Column('department', Text)\n",
    "    \n",
    "    def __repr__(self):\n",
    "        return \"Department(department_id={self.department_id}, department={self.department})\".format(self=self)\n",
    "    \n",
    "class Product(Base):\n",
    "    __tablename__ = 'products'\n",
    "    \n",
    "    product_id = Column('product_id', Integer(), autoincrement=True, primary_key=True)\n",
    "    product_name = Column('product_name', Text())\n",
    "    aisle_id = Column(Integer(), ForeignKey('aisles.aisle_id'))\n",
    "    department_id = Column(Integer(), ForeignKey('departments.department_id'))\n",
    "    \n",
    "    aisle = relationship('Aisle', backref=backref('products', order_by=product_id))\n",
    "    department = relationship('Department', backref=backref('products', order_by=product_id))\n",
    "    \n",
    "    def __repr__(self):\n",
    "        return u\"Product(product_id={self.product_id}, \" \\\n",
    "                \"product_name={self.product_name}, \" \\\n",
    "                \"aisle_id={self.aisle_id}, \" \\\n",
    "                \"department_id={self.department_id})\".format(self=self)\n",
    "\n",
    "class Order(Base):\n",
    "    __tablename__ = 'orders'\n",
    "    \n",
    "    order_id = Column('order_id', Integer(), autoincrement=True, primary_key=True)\n",
    "    user_id = Column('user_id', Integer())\n",
    "    order_eval_set = Column('order_eval_set', Enum('prior', 'train', 'test', name='order_eval_set'))\n",
    "    order_number = Column('order_number', Integer())\n",
    "    order_dow = Column('order_dow', Integer())\n",
    "    order_hour_of_day = Column('order_hour_of_day', Integer())\n",
    "    days_since_prior = Column('days_since_prior', Numeric(), nullable=True)\n",
    "\n",
    "    def __repr__(self):\n",
    "        return 'Order(order_id={self.order_id}, ' \\\n",
    "                'user_id={self.user_id}, ' \\\n",
    "                'order_eval_set={self.order_eval_set}, ' \\\n",
    "                'order_number={self.order_number}, ' \\\n",
    "                'order_dow={self.order_dow}, ' \\\n",
    "                'order_hour_of_day={self.order_hour_of_day}, ' \\\n",
    "                'days_since_prior={self.days_since_prior})'.format(self=self)\n",
    "\n",
    "class LineItem(Base):\n",
    "    __tablename__ = 'order_products__train'\n",
    "    \n",
    "    order_id = Column(Integer(), ForeignKey('orders.order_id'), primary_key=True)\n",
    "    product_id = Column(Integer(), ForeignKey('products.product_id'), primary_key=True)\n",
    "    add_to_cart_order = Column('add_to_cart_order', Integer())\n",
    "    reordered = Column('reordered', Boolean())\n",
    "    \n",
    "    order = relationship('Order', backref=backref('line_items', order_by=add_to_cart_order))\n",
    "    department = relationship('Product', backref=backref('line_items', order_by=add_to_cart_order))\n",
    "    \n",
    "    def __repr__(self):\n",
    "        return 'LineItem(order_id={self.order_id}, ' \\\n",
    "                'product_id={self.product_id}, ' \\\n",
    "                'add_to_cart_order={self.add_to_cart_order}, ' \\\n",
    "                'reordered={self.reordered})'.format(self=self)\n",
    "\n",
    "Base.metadata.create_all(engine)"
   ]
  },
  {
   "cell_type": "code",
   "execution_count": 19,
   "metadata": {
    "collapsed": false
   },
   "outputs": [
    {
     "name": "stdout",
     "output_type": "stream",
     "text": [
      "24\n"
     ]
    }
   ],
   "source": [
    "# product 24 has a non-ASCII character in it. Print can't understand it.\n",
    "# What's the alternative to print in ASCII?\n",
    "product = session.query(Product).filter(Product.product_id == 24).first()"
   ]
  },
  {
   "cell_type": "code",
   "execution_count": 29,
   "metadata": {
    "collapsed": false
   },
   "outputs": [
    {
     "name": "stdout",
     "output_type": "stream",
     "text": [
      "       personal care | 6563\n",
      "              snacks | 6264\n",
      "              pantry | 5371\n",
      "           beverages | 4365\n",
      "              frozen | 4007\n",
      "          dairy eggs | 3449\n",
      "           household | 3085\n",
      "        canned goods | 2092\n",
      "     dry goods pasta | 1858\n",
      "             produce | 1684\n"
     ]
    }
   ],
   "source": [
    "from sqlalchemy.orm import sessionmaker\n",
    "Session = sessionmaker(bind=engine)\n",
    "session = Session()\n",
    "\n",
    "from sqlalchemy.sql import func, desc\n",
    "\n",
    "# Top 10 departments with the most product listings\n",
    "for record in session.query(Department.department, func.count().label('product_count')) \\\n",
    "    .join(Product) \\\n",
    "    .group_by(Department.department) \\\n",
    "    .order_by(desc('product_count')) \\\n",
    "    .limit(10):\n",
    "        print \"%20s | %s\" % (record.department, record.product_count)  "
   ]
  },
  {
   "cell_type": "code",
   "execution_count": 32,
   "metadata": {
    "collapsed": false
   },
   "outputs": [
    {
     "name": "stdout",
     "output_type": "stream",
     "text": [
      "                        Banana | 18726\n",
      "        Bag of Organic Bananas | 15480\n",
      "          Organic Strawberries | 10894\n",
      "          Organic Baby Spinach | 9784\n",
      "                   Large Lemon | 8135\n",
      "               Organic Avocado | 7409\n",
      "          Organic Hass Avocado | 7293\n",
      "                  Strawberries | 6494\n",
      "                         Limes | 6033\n",
      "           Organic Raspberries | 5546\n"
     ]
    }
   ],
   "source": [
    "# Top 10 most ordered items\n",
    "for record in session.query(Product.product_name, func.count().label('num_orders')) \\\n",
    "    .join(LineItem) \\\n",
    "    .group_by(Product.product_id) \\\n",
    "    .order_by(desc('num_orders')) \\\n",
    "    .limit(10):\n",
    "        print \"%30s | %s\" % (record.product_name, record.num_orders)  "
   ]
  },
  {
   "cell_type": "code",
   "execution_count": null,
   "metadata": {
    "collapsed": true
   },
   "outputs": [],
   "source": []
  }
 ],
 "metadata": {
  "kernelspec": {
   "display_name": "Python 2",
   "language": "python",
   "name": "python2"
  },
  "language_info": {
   "codemirror_mode": {
    "name": "ipython",
    "version": 2
   },
   "file_extension": ".py",
   "mimetype": "text/x-python",
   "name": "python",
   "nbconvert_exporter": "python",
   "pygments_lexer": "ipython2",
   "version": "2.7.13"
  }
 },
 "nbformat": 4,
 "nbformat_minor": 2
}
