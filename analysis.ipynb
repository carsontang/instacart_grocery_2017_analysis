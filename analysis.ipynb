{
 "cells": [
  {
   "cell_type": "code",
   "execution_count": 2,
   "metadata": {
    "collapsed": true
   },
   "outputs": [],
   "source": [
    "# Connect to the database\n",
    "import sqlalchemy\n",
    "from sqlalchemy import create_engine\n",
    "\n",
    "engine = create_engine('postgresql+psycopg2://ctang:@localhost:5432/ctang') # no password\n",
    "connection = engine.connect()"
   ]
  },
  {
   "cell_type": "code",
   "execution_count": 30,
   "metadata": {
    "collapsed": false
   },
   "outputs": [],
   "source": [
    "# Set up the tables\n",
    "from sqlalchemy import MetaData\n",
    "from sqlalchemy import Table, Column, Enum, Boolean, Integer, Numeric, Text\n",
    "\n",
    "metadata = MetaData()\n",
    "\n",
    "orders = Table('orders', metadata,\n",
    "    Column('order_id', Integer(), autoincrement=True, primary_key=True),\n",
    "    Column('user_id', Integer(), autoincrement=True),\n",
    "    Column('order_eval_set', Enum('prior', 'train', 'test')),\n",
    "    Column('order_number', Integer()),\n",
    "    Column('order_dow', Integer()),\n",
    "    Column('order_hour_of_day', Integer()),\n",
    "    Column('days_since_prior', Numeric(), nullable=True)\n",
    ")\n",
    "\n",
    "aisles = Table('aisles', metadata,\n",
    "    Column('aisle_id', Integer(), autoincrement=True, primary_key=True),\n",
    "    Column('aisle', Text)\n",
    ")\n",
    "\n",
    "departments = Table('departments', metadata,\n",
    "    Column('department_id', Integer(), autoincrement=True, primary_key=True),\n",
    "    Column('department', Text)\n",
    ")\n",
    "\n",
    "products = Table('products', metadata,\n",
    "    Column('product_id', Integer(), autoincrement=True, primary_key=True),\n",
    "    Column('product_name', Text()),\n",
    "    Column('aisle_id', ForeignKey('aisles.aisle_id')),\n",
    "    Column('department_id', ForeignKey('departments.department_id'))\n",
    ")\n",
    "\n",
    "order_products__train = Table('order_products__train', metadata,\n",
    "    Column('order_id', ForeignKey('orders.order_id')),\n",
    "    Column('product_id', ForeignKey('products.product_id')),\n",
    "    Column('add_to_cart_order', Integer(), autoincrement=True),\n",
    "    Column('reordered', Boolean())\n",
    ")"
   ]
  },
  {
   "cell_type": "code",
   "execution_count": 87,
   "metadata": {
    "collapsed": false
   },
   "outputs": [
    {
     "name": "stdout",
     "output_type": "stream",
     "text": [
      "          department | number of products\n",
      "--------------------------------------------------\n",
      "       personal care | 6563\n",
      "              snacks | 6264\n",
      "              pantry | 5371\n",
      "           beverages | 4365\n",
      "              frozen | 4007\n",
      "          dairy eggs | 3449\n",
      "           household | 3085\n",
      "        canned goods | 2092\n",
      "     dry goods pasta | 1858\n",
      "             produce | 1684\n",
      "              bakery | 1516\n",
      "                deli | 1322\n",
      "             missing | 1258\n",
      "       international | 1139\n",
      "           breakfast | 1115\n",
      "              babies | 1081\n",
      "             alcohol | 1054\n",
      "                pets | 972\n",
      "        meat seafood | 907\n",
      "               other | 548\n",
      "                bulk | 38\n"
     ]
    }
   ],
   "source": [
    "from sqlalchemy.sql import select, func, desc\n",
    "\n",
    "# Top 10 departments with the most product listings\n",
    "columns = [departments.c.department, func.count(products.c.product_id).label('product_count')]\n",
    "s = select(columns) \\\n",
    "    .select_from(departments.join(products)) \\\n",
    "    .group_by(departments.c.department) \\\n",
    "    .order_by(desc('product_count'))\n",
    "\n",
    "rp = connection.execute(s)\n",
    "print \"%20s | %s\" % ('department', 'number of products')\n",
    "print '-' * 50\n",
    "for record in rp:\n",
    "    print \"%20s | %s\" % (record.department, record.product_count)"
   ]
  },
  {
   "cell_type": "code",
   "execution_count": 101,
   "metadata": {
    "collapsed": false
   },
   "outputs": [
    {
     "ename": "AttributeError",
     "evalue": "'Select' object has no attribute 'subquery'",
     "output_type": "error",
     "traceback": [
      "\u001b[0;31m---------------------------------------------------------------------------\u001b[0m",
      "\u001b[0;31mAttributeError\u001b[0m                            Traceback (most recent call last)",
      "\u001b[0;32m<ipython-input-101-5620d5723117>\u001b[0m in \u001b[0;36m<module>\u001b[0;34m()\u001b[0m\n\u001b[1;32m      1\u001b[0m \u001b[0;31m# /* Top 10 most ordered items */\u001b[0m\u001b[0;34m\u001b[0m\u001b[0;34m\u001b[0m\u001b[0m\n\u001b[1;32m      2\u001b[0m \u001b[0mcolumns\u001b[0m \u001b[0;34m=\u001b[0m \u001b[0;34m[\u001b[0m\u001b[0morder_products__train\u001b[0m\u001b[0;34m.\u001b[0m\u001b[0mc\u001b[0m\u001b[0;34m.\u001b[0m\u001b[0mproduct_id\u001b[0m\u001b[0;34m,\u001b[0m \u001b[0mfunc\u001b[0m\u001b[0;34m.\u001b[0m\u001b[0mcount\u001b[0m\u001b[0;34m(\u001b[0m\u001b[0;34m)\u001b[0m\u001b[0;34m.\u001b[0m\u001b[0mlabel\u001b[0m\u001b[0;34m(\u001b[0m\u001b[0;34m'num_ordered'\u001b[0m\u001b[0;34m)\u001b[0m\u001b[0;34m]\u001b[0m\u001b[0;34m\u001b[0m\u001b[0m\n\u001b[0;32m----> 3\u001b[0;31m \u001b[0mproduct_counts\u001b[0m \u001b[0;34m=\u001b[0m \u001b[0mselect\u001b[0m\u001b[0;34m(\u001b[0m\u001b[0mcolumns\u001b[0m\u001b[0;34m)\u001b[0m     \u001b[0;34m.\u001b[0m\u001b[0mselect_from\u001b[0m\u001b[0;34m(\u001b[0m\u001b[0morder_products__train\u001b[0m\u001b[0;34m)\u001b[0m     \u001b[0;34m.\u001b[0m\u001b[0mgroup_by\u001b[0m\u001b[0;34m(\u001b[0m\u001b[0morder_products__train\u001b[0m\u001b[0;34m.\u001b[0m\u001b[0mc\u001b[0m\u001b[0;34m.\u001b[0m\u001b[0mproduct_id\u001b[0m\u001b[0;34m)\u001b[0m     \u001b[0;34m.\u001b[0m\u001b[0morder_by\u001b[0m\u001b[0;34m(\u001b[0m\u001b[0mdesc\u001b[0m\u001b[0;34m(\u001b[0m\u001b[0;34m'num_ordered'\u001b[0m\u001b[0;34m)\u001b[0m\u001b[0;34m)\u001b[0m     \u001b[0;34m.\u001b[0m\u001b[0mlimit\u001b[0m\u001b[0;34m(\u001b[0m\u001b[0;36m10\u001b[0m\u001b[0;34m)\u001b[0m     \u001b[0;34m.\u001b[0m\u001b[0msubquery\u001b[0m\u001b[0;34m(\u001b[0m\u001b[0;34m'product_counts'\u001b[0m\u001b[0;34m)\u001b[0m\u001b[0;34m\u001b[0m\u001b[0m\n\u001b[0m\u001b[1;32m      4\u001b[0m \u001b[0;34m\u001b[0m\u001b[0m\n\u001b[1;32m      5\u001b[0m \u001b[0mcol2\u001b[0m \u001b[0;34m=\u001b[0m \u001b[0;34m[\u001b[0m\u001b[0mproducts\u001b[0m\u001b[0;34m.\u001b[0m\u001b[0mc\u001b[0m\u001b[0;34m.\u001b[0m\u001b[0mproduct_name\u001b[0m\u001b[0;34m,\u001b[0m \u001b[0mproduct_counts\u001b[0m\u001b[0;34m.\u001b[0m\u001b[0mc\u001b[0m\u001b[0;34m.\u001b[0m\u001b[0mnum_ordered\u001b[0m\u001b[0;34m]\u001b[0m\u001b[0;34m\u001b[0m\u001b[0m\n",
      "\u001b[0;31mAttributeError\u001b[0m: 'Select' object has no attribute 'subquery'"
     ]
    }
   ],
   "source": [
    "# # /* Top 10 most ordered items */\n",
    "# columns = [order_products__train.c.product_id, func.count().label('num_ordered')]\n",
    "# product_counts = select(columns) \\\n",
    "#     .select_from(order_products__train) \\\n",
    "#     .group_by(order_products__train.c.product_id) \\\n",
    "#     .order_by(desc('num_ordered')) \\\n",
    "#     .limit(10) \\\n",
    "#     .subquery('product_counts')\n",
    "\n",
    "# col2 = [products.c.product_name, product_counts.c.num_ordered]\n",
    "# r = select(col2).select_from(product_counts).join(products).limit(10)\n",
    "# print str(product_counts)\n",
    "# rp = connection.execute(s)\n",
    "# for record in rp:\n",
    "#     print record\n",
    "    \n",
    "# # SELECT p.product_name, o.num_ordered, a.aisle\n",
    "# #   FROM (SELECT o.product_id as product_id, COUNT(*) AS num_ordered\n",
    "# #           FROM order_products__train o\n",
    "# #       GROUP BY o.product_id\n",
    "# #       ORDER BY num_ordered DESC) AS o\n",
    "# #   JOIN products p ON p.product_id = o.product_id\n",
    "# #   JOIN aisles a ON p.aisle_id = a.aisle_id\n",
    "# #  LIMIT 10;"
   ]
  },
  {
   "cell_type": "code",
   "execution_count": null,
   "metadata": {
    "collapsed": true
   },
   "outputs": [],
   "source": []
  }
 ],
 "metadata": {
  "kernelspec": {
   "display_name": "Python 2",
   "language": "python",
   "name": "python2"
  },
  "language_info": {
   "codemirror_mode": {
    "name": "ipython",
    "version": 2
   },
   "file_extension": ".py",
   "mimetype": "text/x-python",
   "name": "python",
   "nbconvert_exporter": "python",
   "pygments_lexer": "ipython2",
   "version": "2.7.13"
  }
 },
 "nbformat": 4,
 "nbformat_minor": 2
}
